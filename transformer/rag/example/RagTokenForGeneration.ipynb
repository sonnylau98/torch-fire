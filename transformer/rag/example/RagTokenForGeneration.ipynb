{
  "nbformat": 4,
  "nbformat_minor": 0,
  "metadata": {
    "colab": {
      "provenance": []
    },
    "kernelspec": {
      "name": "python3",
      "display_name": "Python 3"
    },
    "language_info": {
      "name": "python"
    }
  },
  "cells": [
    {
      "cell_type": "code",
      "execution_count": null,
      "metadata": {
        "id": "ldYCzqq4FRuc"
      },
      "outputs": [],
      "source": [
        "!pip install datasets\n",
        "!pip install faiss-cpu"
      ]
    },
    {
      "cell_type": "code",
      "source": [
        "from transformers import AutoTokenizer, RagRetriever, RagTokenForGeneration\n",
        "\n",
        "tokenizer = AutoTokenizer.from_pretrained(\"facebook/rag-token-nq\")\n",
        "retriever = RagRetriever.from_pretrained(\"facebook/rag-token-nq\", index_name=\"exact\", use_dummy_dataset=True)\n",
        "\n",
        "model = RagTokenForGeneration.from_pretrained(\"facebook/rag-token-nq\", retriever=retriever)\n",
        "\n",
        "inputs = tokenizer(\"How many people live in Paris?\", return_tensors=\"pt\")\n",
        "targets = tokenizer(text_target=\"In Paris, there are 10 million people.\", return_tensors=\"pt\")\n",
        "\n",
        "input_ids = inputs[\"input_ids\"]\n",
        "labels = targets[\"input_ids\"]\n",
        "\n",
        "outputs = model(input_ids=input_ids, labels=labels)"
      ],
      "metadata": {
        "id": "C7TliSn3FYGn"
      },
      "execution_count": null,
      "outputs": []
    },
    {
      "cell_type": "code",
      "source": [
        "output"
      ],
      "metadata": {
        "id": "BwPrrjA6FiJT"
      },
      "execution_count": null,
      "outputs": []
    }
  ]
}